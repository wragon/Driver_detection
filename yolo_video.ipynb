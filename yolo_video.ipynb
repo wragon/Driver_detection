{
  "nbformat": 4,
  "nbformat_minor": 0,
  "metadata": {
    "colab": {
      "name": "yolo_video.ipynb",
      "provenance": [],
      "collapsed_sections": []
    },
    "kernelspec": {
      "name": "python3",
      "display_name": "Python 3"
    },
    "language_info": {
      "name": "python"
    }
  },
  "cells": [
    {
      "cell_type": "code",
      "metadata": {
        "id": "3RBuDg30_2Zu"
      },
      "source": [
        "# 참고 : https://github.com/seongheum-ssu/2021-1-2150054901/blob/main/exp/2021-05-13\n",
        "# -*- coding: utf-8 -*-\n",
        "import cv2\n",
        "import random\n",
        "from google.colab.patches import cv2_imshow # Google Colab.\n",
        "from tqdm import tqdm\n",
        "\n",
        "# Parameters\n",
        "TH1 = 0.5  # Confidence\n",
        "TH2 = 0.25 # Non-maximum Suppression\n",
        "\n",
        "# CNN model\n",
        "config = '/content/drive/MyDrive/Colab Notebooks/ComputerVision/project/yolov3.cfg' \n",
        "model = '/content/drive/MyDrive/Colab Notebooks/ComputerVision/project/yolov3.weights' \n",
        "classLabels = '/content/drive/MyDrive/Colab Notebooks/ComputerVision/project/coco.names'"
      ],
      "execution_count": null,
      "outputs": []
    },
    {
      "cell_type": "code",
      "metadata": {
        "id": "O4D3fed0AMIJ"
      },
      "source": [
        "# from darknet.py\n",
        "def fun_get_colors(names):\n",
        "    \"\"\"\n",
        "    Create a dict with one random BGR color for each\n",
        "    class name\n",
        "    \"\"\"\n",
        "    random.seed(1)\n",
        "    return {name: (\n",
        "        random.randint(0, 255),\n",
        "        random.randint(0, 255),\n",
        "        random.randint(0, 255)) for name in names}"
      ],
      "execution_count": null,
      "outputs": []
    },
    {
      "cell_type": "code",
      "metadata": {
        "id": "rQjvtb3uAMK-",
        "colab": {
          "base_uri": "https://localhost:8080/"
        },
        "outputId": "a911aaf2-6f98-492d-c23b-d55da47e25d6"
      },
      "source": [
        "# main(동영상 저장과 경고 알림 추가)\n",
        "if __name__ == \"__main__\":\n",
        "    # Load CNN model trained over MS COCO DB\n",
        "    net = cv2.dnn.readNetFromDarknet(config, model)\n",
        "    layerNames = net.getLayerNames()\n",
        "    layerOutputs = [layerNames[i[0] - 1] for i in net.getUnconnectedOutLayers()]\n",
        "    with open(classLabels, 'rt') as file:\n",
        "        classNames = file.read().strip('\\n').split('\\n')\n",
        "    classColors = fun_get_colors(classNames)\n",
        "    \n",
        "    cap = cv2.VideoCapture('/content/drive/MyDrive/Colab Notebooks/ComputerVision/project/videos/use_cellphone3.mp4')\n",
        "    total_frame = int(cap.get(cv2.CAP_PROP_FRAME_COUNT))\n",
        "\n",
        "    for now_frame in tqdm(range(total_frame)):\n",
        "        ret, img_ori = cap.read()\n",
        "\n",
        "        img_ori = cv2.resize(img_ori, dsize=(0, 0), fx=0.5, fy=0.5)\n",
        "\n",
        "        img = img_ori.copy()\n",
        "        # Run CNN: input image to output tensor\n",
        "        try:\n",
        "            blob = cv2.dnn.blobFromImage(img, 1/255, (416, 416), swapRB=1)\n",
        "            # blob = cv2.dnn.blobFromImage(img, 1/255, (320, 320), swapRB=1)\n",
        "            net.setInput(blob)\n",
        "            outs = net.forward(layerOutputs)\n",
        "        except Exception as e:\n",
        "            print(str(e))\n",
        "\n",
        "        # Non-maximum Suppression\n",
        "        imgH, imgW, _ = img.shape\n",
        "        classIDs = []\n",
        "        confidences = []\n",
        "        boxes = []\n",
        "        for out in outs:\n",
        "            for detection in out:\n",
        "                scores = list(detection[5:])\n",
        "                confidence = max(scores)\n",
        "                classID = scores.index(confidence)\n",
        "                if confidence > TH1:\n",
        "                    centerX, centerY   = int(detection[0] * imgW), int(detection[1] * imgH)\n",
        "                    boxW, boxH         = int(detection[2] * imgW), int(detection[3] * imgH)\n",
        "                    topleftX, topleftY = int(centerX - boxW / 2), int(centerY - boxH / 2)\n",
        "                    boxes.append([topleftX, topleftY, boxW, boxH])\n",
        "                    confidences.append(float(confidence))\n",
        "                    classIDs.append(int(classID))\n",
        "        resultDet = cv2.dnn.NMSBoxes(boxes, confidences, TH1, TH2)\n",
        "\n",
        "        # Visualization\n",
        "        for ind in resultDet:\n",
        "            id = ind[0]\n",
        "            topleftX, topleftY, boxW, boxH = boxes[id]\n",
        "            label = f'{classNames[classIDs[id]]}: {confidences[id]:.2}'\n",
        "            if \"cell phone\" in label:\n",
        "                cv2.putText(img, \"Warning!\", (100, 300), cv2.FONT_HERSHEY_PLAIN, 12.0, (0, 0, 255), 5); # 입력 이미지, 입력 문구, 문구 시작 위치, 폰트, 글자크기, 글자색상, 글자굵기\n",
        "            color = classColors[classNames[classIDs[id]]]\n",
        "            cv2.rectangle(img, (topleftX, topleftY, boxW, boxH), color, 2)\n",
        "            cv2.putText(img, label, (topleftX, topleftY-12), cv2.FONT_HERSHEY_SIMPLEX, 0.5, color, 2)\n",
        "        eTime, _ = net.getPerfProfile()\n",
        "        # print(\"Elapsed time: %.2f ms\" % (eTime * 1000.0 / cv.getTickFrequency()))\n",
        "        \n",
        "        cv2.imwrite(f\"/content/drive/MyDrive/Colab Notebooks/ComputerVision/project/result/{now_frame:.0f}.jpg\", img)"
      ],
      "execution_count": null,
      "outputs": [
        {
          "output_type": "stream",
          "text": [
            "100%|██████████| 320/320 [09:55<00:00,  1.86s/it]\n"
          ],
          "name": "stderr"
        }
      ]
    },
    {
      "cell_type": "code",
      "metadata": {
        "colab": {
          "base_uri": "https://localhost:8080/"
        },
        "id": "-f_-_WWDeTk6",
        "outputId": "42709943-3aa1-46ae-a2b4-9ad7ebcfaffb"
      },
      "source": [
        "import glob\n",
        "\n",
        "img_array = []\n",
        "\n",
        "for file in tqdm(glob.glob('/content/drive/MyDrive/Colab Notebooks/ComputerVision/project/result/*.jpg')):\n",
        "    img = cv2.imread(file)\n",
        "    img_array.append(img)\n",
        "\n",
        "height, width = img.shape[:2]\n",
        "size = (width, height)\n",
        "video = cv2.VideoWriter('/content/drive/MyDrive/Colab Notebooks/ComputerVision/project/result/result.avi',cv2.VideoWriter_fourcc(*'DIVX'), 20, size)\n",
        "\n",
        "for img in img_array:\n",
        "    video.write(img)\n",
        "\n",
        "video.release()"
      ],
      "execution_count": null,
      "outputs": [
        {
          "output_type": "stream",
          "text": [
            "100%|██████████| 320/320 [00:03<00:00, 97.10it/s]\n"
          ],
          "name": "stderr"
        }
      ]
    },
    {
      "cell_type": "markdown",
      "metadata": {
        "id": "fZtgBgBwfSuM"
      },
      "source": [
        "# APPENDIX\n",
        "### 외부 데이터 출처\n",
        "    \n",
        "* https://github.com/seongheum-ssu/2021-1-2150054901/blob/main/exp/2021-05-13"
      ]
    }
  ]
}