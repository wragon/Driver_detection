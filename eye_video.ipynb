{
  "nbformat": 4,
  "nbformat_minor": 0,
  "metadata": {
    "colab": {
      "name": "eye_video.ipynb",
      "provenance": [],
      "collapsed_sections": []
    },
    "kernelspec": {
      "name": "python3",
      "display_name": "Python 3"
    },
    "language_info": {
      "name": "python"
    }
  },
  "cells": [
    {
      "cell_type": "code",
      "metadata": {
        "id": "IgaW9_dWaoOg"
      },
      "source": [
        "# 모듈 선언\n",
        "import tensorflow as tf\n",
        "import numpy as np\n",
        "import matplotlib.pyplot as plt\n",
        "import pandas as pd\n",
        "import random\n",
        "import cv2, dlib\n",
        "import time\n",
        "from tensorflow.keras.preprocessing.image import ImageDataGenerator\n",
        "from imutils import face_utils\n",
        "from google.colab.patches import cv2_imshow\n",
        "from tqdm import tqdm"
      ],
      "execution_count": 1,
      "outputs": []
    },
    {
      "cell_type": "markdown",
      "metadata": {
        "id": "mVy1vSD-bZLm"
      },
      "source": [
        "# CNN 모델 만들기"
      ]
    },
    {
      "cell_type": "code",
      "metadata": {
        "colab": {
          "base_uri": "https://localhost:8080/"
        },
        "id": "9LZgXuR_bHFW",
        "outputId": "9066a567-b533-4375-a9bc-5f96b6087004"
      },
      "source": [
        "# dataset\n",
        "# 출처 : https://github.com/kairess/eye_blink_detector/tree/master/dataset\n",
        "x_train = np.load('/content/drive/MyDrive/Colab Notebooks/ComputerVision/project/dataset/x_train.npy').astype(np.float32)\n",
        "y_train = np.load('/content/drive/MyDrive/Colab Notebooks/ComputerVision/project/dataset/y_train.npy').astype(np.float32)\n",
        "x_val = np.load('/content/drive/MyDrive/Colab Notebooks/ComputerVision/project/dataset/x_val.npy').astype(np.float32)\n",
        "y_val = np.load('/content/drive/MyDrive/Colab Notebooks/ComputerVision/project/dataset/y_val.npy').astype(np.float32)\n",
        "\n",
        "print(x_train.shape, y_train.shape)\n",
        "print(x_val.shape, y_val.shape)"
      ],
      "execution_count": 2,
      "outputs": [
        {
          "output_type": "stream",
          "text": [
            "(2586, 26, 34, 1) (2586, 1)\n",
            "(288, 26, 34, 1) (288, 1)\n"
          ],
          "name": "stdout"
        }
      ]
    },
    {
      "cell_type": "code",
      "metadata": {
        "id": "ljZ_vnj_bLPR"
      },
      "source": [
        "# Image Augmentation(옵션을 더 많이 줘서 개선)\n",
        "train_argmentation = ImageDataGenerator(\n",
        "    rescale=1./255, # 이미지 0-1 사이의 값으로 변경\n",
        "    rotation_range=10,\n",
        "    zoom_range=0.2,\n",
        "    shear_range=0.2,\n",
        "    width_shift_range=0.2,\n",
        "    height_shift_range=0.2,\n",
        "    horizontal_flip=True,\n",
        "    vertical_flip=False\n",
        ")\n",
        "\n",
        "val_argmentation = ImageDataGenerator(\n",
        "    rescale=1./255\n",
        ")\n",
        "\n",
        "augment_size = 50\n",
        "train_generator = train_argmentation.flow(\n",
        "    x=x_train, y=y_train,\n",
        "    batch_size=augment_size,\n",
        "    shuffle=True\n",
        ")\n",
        "val_generator = val_argmentation.flow(\n",
        "    x=x_val, y=y_val,\n",
        "    batch_size=augment_size,\n",
        "    shuffle=False\n",
        ")"
      ],
      "execution_count": 3,
      "outputs": []
    },
    {
      "cell_type": "code",
      "metadata": {
        "colab": {
          "base_uri": "https://localhost:8080/"
        },
        "id": "CRtPJm6pbNj-",
        "outputId": "3c5f1ded-3c3d-461d-a9ea-0fe3c5b5a79c"
      },
      "source": [
        "# CNN 모델 생성(tensorflow로 개선)\n",
        "model = tf.keras.Sequential([\n",
        "    tf.keras.layers.Conv2D(input_shape=(26, 34, 1), kernel_size=(3,3), filters=32, strides=1, padding='same', activation='relu'),\n",
        "    tf.keras.layers.MaxPool2D(pool_size=(2,2)),\n",
        "\n",
        "    tf.keras.layers.Conv2D(kernel_size=(3,3), filters=64, padding='same', strides=1, activation='relu'),\n",
        "    tf.keras.layers.MaxPool2D(pool_size=(2,2)),\n",
        "\n",
        "    tf.keras.layers.Conv2D(kernel_size=(3,3), filters=128, padding='same', strides=1, activation='relu'),\n",
        "    tf.keras.layers.MaxPool2D(pool_size=(2,2)),\n",
        "\n",
        "    tf.keras.layers.Flatten(),\n",
        "\n",
        "    tf.keras.layers.Dense(units=512, activation='relu'),\n",
        "    tf.keras.layers.Dense(units=256, activation='relu'),\n",
        "    tf.keras.layers.Dense(units=1, activation='sigmoid')\n",
        "])\n",
        "\n",
        "model.compile(optimizer=tf.keras.optimizers.Adam(), loss='binary_crossentropy', metrics=['accuracy'])\n",
        "model.summary()"
      ],
      "execution_count": 4,
      "outputs": [
        {
          "output_type": "stream",
          "text": [
            "Model: \"sequential\"\n",
            "_________________________________________________________________\n",
            "Layer (type)                 Output Shape              Param #   \n",
            "=================================================================\n",
            "conv2d (Conv2D)              (None, 26, 34, 32)        320       \n",
            "_________________________________________________________________\n",
            "max_pooling2d (MaxPooling2D) (None, 13, 17, 32)        0         \n",
            "_________________________________________________________________\n",
            "conv2d_1 (Conv2D)            (None, 13, 17, 64)        18496     \n",
            "_________________________________________________________________\n",
            "max_pooling2d_1 (MaxPooling2 (None, 6, 8, 64)          0         \n",
            "_________________________________________________________________\n",
            "conv2d_2 (Conv2D)            (None, 6, 8, 128)         73856     \n",
            "_________________________________________________________________\n",
            "max_pooling2d_2 (MaxPooling2 (None, 3, 4, 128)         0         \n",
            "_________________________________________________________________\n",
            "flatten (Flatten)            (None, 1536)              0         \n",
            "_________________________________________________________________\n",
            "dense (Dense)                (None, 512)               786944    \n",
            "_________________________________________________________________\n",
            "dense_1 (Dense)              (None, 256)               131328    \n",
            "_________________________________________________________________\n",
            "dense_2 (Dense)              (None, 1)                 257       \n",
            "=================================================================\n",
            "Total params: 1,011,201\n",
            "Trainable params: 1,011,201\n",
            "Non-trainable params: 0\n",
            "_________________________________________________________________\n"
          ],
          "name": "stdout"
        }
      ]
    },
    {
      "cell_type": "code",
      "metadata": {
        "colab": {
          "base_uri": "https://localhost:8080/",
          "height": 1000
        },
        "id": "KAwaBhY5bNml",
        "outputId": "438b2bdb-0398-46e3-84e0-67a735d7bd35"
      },
      "source": [
        "# 모델 학습\n",
        "history = model.fit_generator(train_generator, epochs=25, validation_data=val_generator)\n",
        "\n",
        "# 학습 결과 시각화\n",
        "plt.figure(figsize=(12, 4))\n",
        "\n",
        "plt.subplot(1, 2, 1)\n",
        "plt.plot(history.history['loss'], 'b-', label='loss')\n",
        "plt.plot(history.history['val_loss'], 'r--', label='val_loss')\n",
        "plt.xlabel('Epoch')\n",
        "plt.legend()\n",
        "\n",
        "plt.subplot(1, 2, 2)\n",
        "plt.plot(history.history['accuracy'], 'g-', label='accuracy')\n",
        "plt.plot(history.history['val_accuracy'], 'k--', label='val_accuracy')\n",
        "plt.xlabel('Epoch')\n",
        "plt.legend()\n",
        "\n",
        "plt.show()"
      ],
      "execution_count": 5,
      "outputs": [
        {
          "output_type": "stream",
          "text": [
            "Epoch 1/25\n"
          ],
          "name": "stdout"
        },
        {
          "output_type": "stream",
          "text": [
            "/usr/local/lib/python3.7/dist-packages/tensorflow/python/keras/engine/training.py:1940: UserWarning: `Model.fit_generator` is deprecated and will be removed in a future version. Please use `Model.fit`, which supports generators.\n",
            "  warnings.warn('`Model.fit_generator` is deprecated and '\n"
          ],
          "name": "stderr"
        },
        {
          "output_type": "stream",
          "text": [
            "52/52 [==============================] - 33s 23ms/step - loss: 0.5467 - accuracy: 0.7297 - val_loss: 0.3224 - val_accuracy: 0.8750\n",
            "Epoch 2/25\n",
            "52/52 [==============================] - 1s 17ms/step - loss: 0.3311 - accuracy: 0.8650 - val_loss: 0.2163 - val_accuracy: 0.9375\n",
            "Epoch 3/25\n",
            "52/52 [==============================] - 1s 17ms/step - loss: 0.2439 - accuracy: 0.9091 - val_loss: 0.1583 - val_accuracy: 0.9479\n",
            "Epoch 4/25\n",
            "52/52 [==============================] - 1s 17ms/step - loss: 0.1721 - accuracy: 0.9412 - val_loss: 0.0770 - val_accuracy: 0.9722\n",
            "Epoch 5/25\n",
            "52/52 [==============================] - 1s 17ms/step - loss: 0.1972 - accuracy: 0.9304 - val_loss: 0.0933 - val_accuracy: 0.9757\n",
            "Epoch 6/25\n",
            "52/52 [==============================] - 1s 17ms/step - loss: 0.1223 - accuracy: 0.9575 - val_loss: 0.0538 - val_accuracy: 0.9896\n",
            "Epoch 7/25\n",
            "52/52 [==============================] - 1s 17ms/step - loss: 0.1180 - accuracy: 0.9594 - val_loss: 0.0763 - val_accuracy: 0.9722\n",
            "Epoch 8/25\n",
            "52/52 [==============================] - 1s 17ms/step - loss: 0.1001 - accuracy: 0.9667 - val_loss: 0.0487 - val_accuracy: 0.9861\n",
            "Epoch 9/25\n",
            "52/52 [==============================] - 1s 17ms/step - loss: 0.0947 - accuracy: 0.9725 - val_loss: 0.0643 - val_accuracy: 0.9826\n",
            "Epoch 10/25\n",
            "52/52 [==============================] - 1s 17ms/step - loss: 0.0698 - accuracy: 0.9768 - val_loss: 0.0727 - val_accuracy: 0.9826\n",
            "Epoch 11/25\n",
            "52/52 [==============================] - 1s 17ms/step - loss: 0.0745 - accuracy: 0.9745 - val_loss: 0.0641 - val_accuracy: 0.9792\n",
            "Epoch 12/25\n",
            "52/52 [==============================] - 1s 17ms/step - loss: 0.0686 - accuracy: 0.9780 - val_loss: 0.0524 - val_accuracy: 0.9826\n",
            "Epoch 13/25\n",
            "52/52 [==============================] - 1s 17ms/step - loss: 0.0455 - accuracy: 0.9845 - val_loss: 0.0474 - val_accuracy: 0.9861\n",
            "Epoch 14/25\n",
            "52/52 [==============================] - 1s 17ms/step - loss: 0.0575 - accuracy: 0.9814 - val_loss: 0.0627 - val_accuracy: 0.9757\n",
            "Epoch 15/25\n",
            "52/52 [==============================] - 1s 17ms/step - loss: 0.0463 - accuracy: 0.9849 - val_loss: 0.0635 - val_accuracy: 0.9792\n",
            "Epoch 16/25\n",
            "52/52 [==============================] - 1s 17ms/step - loss: 0.0450 - accuracy: 0.9853 - val_loss: 0.0532 - val_accuracy: 0.9861\n",
            "Epoch 17/25\n",
            "52/52 [==============================] - 1s 17ms/step - loss: 0.0352 - accuracy: 0.9903 - val_loss: 0.0568 - val_accuracy: 0.9896\n",
            "Epoch 18/25\n",
            "52/52 [==============================] - 1s 17ms/step - loss: 0.0511 - accuracy: 0.9838 - val_loss: 0.0417 - val_accuracy: 0.9896\n",
            "Epoch 19/25\n",
            "52/52 [==============================] - 1s 17ms/step - loss: 0.0370 - accuracy: 0.9880 - val_loss: 0.0384 - val_accuracy: 0.9931\n",
            "Epoch 20/25\n",
            "52/52 [==============================] - 1s 17ms/step - loss: 0.0402 - accuracy: 0.9876 - val_loss: 0.0462 - val_accuracy: 0.9896\n",
            "Epoch 21/25\n",
            "52/52 [==============================] - 1s 17ms/step - loss: 0.0431 - accuracy: 0.9884 - val_loss: 0.0467 - val_accuracy: 0.9792\n",
            "Epoch 22/25\n",
            "52/52 [==============================] - 1s 17ms/step - loss: 0.0363 - accuracy: 0.9892 - val_loss: 0.0418 - val_accuracy: 0.9896\n",
            "Epoch 23/25\n",
            "52/52 [==============================] - 1s 17ms/step - loss: 0.0387 - accuracy: 0.9896 - val_loss: 0.0455 - val_accuracy: 0.9861\n",
            "Epoch 24/25\n",
            "52/52 [==============================] - 1s 17ms/step - loss: 0.0391 - accuracy: 0.9876 - val_loss: 0.0462 - val_accuracy: 0.9896\n",
            "Epoch 25/25\n",
            "52/52 [==============================] - 1s 17ms/step - loss: 0.0365 - accuracy: 0.9896 - val_loss: 0.0491 - val_accuracy: 0.9826\n"
          ],
          "name": "stdout"
        },
        {
          "output_type": "display_data",
          "data": {
            "image/png": "[encoded data removed]",
            "text/plain": [
              "<Figure size 864x288 with 2 Axes>"
            ]
          },
          "metadata": {
            "tags": [],
            "needs_background": "light"
          }
        }
      ]
    },
    {
      "cell_type": "code",
      "metadata": {
        "colab": {
          "base_uri": "https://localhost:8080/",
          "height": 300
        },
        "id": "3-usOW0RbNpE",
        "outputId": "25f6e4fb-2960-4d59-8cde-10cf901e971a"
      },
      "source": [
        "from sklearn.metrics import accuracy_score, confusion_matrix\n",
        "import seaborn as sns\n",
        "\n",
        "y_pred = model.predict(x_val/255.)\n",
        "y_pred_logical = (y_pred > 0.5).astype(np.int)\n",
        "\n",
        "print ('test acc: %s' % accuracy_score(y_val, y_pred_logical))\n",
        "cm = confusion_matrix(y_val, y_pred_logical)\n",
        "sns.heatmap(cm, annot=True)"
      ],
      "execution_count": 6,
      "outputs": [
        {
          "output_type": "stream",
          "text": [
            "test acc: 0.9826388888888888\n"
          ],
          "name": "stdout"
        },
        {
          "output_type": "execute_result",
          "data": {
            "text/plain": [
              "<matplotlib.axes._subplots.AxesSubplot at 0x7f1c6c71ca90>"
            ]
          },
          "metadata": {
            "tags": []
          },
          "execution_count": 6
        },
        {
          "output_type": "display_data",
          "data": {
            "image/png": "[encoded data removed]",
            "text/plain": [
              "<Figure size 432x288 with 2 Axes>"
            ]
          },
          "metadata": {
            "tags": [],
            "needs_background": "light"
          }
        }
      ]
    },
    {
      "cell_type": "code",
      "metadata": {
        "colab": {
          "base_uri": "https://localhost:8080/",
          "height": 320
        },
        "id": "atfKUABibNri",
        "outputId": "8fa8326e-a7d0-486c-eeef-e92806efb4ec"
      },
      "source": [
        "ax = sns.distplot(y_pred, kde=False)"
      ],
      "execution_count": 7,
      "outputs": [
        {
          "output_type": "stream",
          "text": [
            "/usr/local/lib/python3.7/dist-packages/seaborn/distributions.py:2557: FutureWarning: `distplot` is a deprecated function and will be removed in a future version. Please adapt your code to use either `displot` (a figure-level function with similar flexibility) or `histplot` (an axes-level function for histograms).\n",
            "  warnings.warn(msg, FutureWarning)\n"
          ],
          "name": "stderr"
        },
        {
          "output_type": "display_data",
          "data": {
            "image/png": "[encoded data removed]",
            "text/plain": [
              "<Figure size 432x288 with 1 Axes>"
            ]
          },
          "metadata": {
            "tags": [],
            "needs_background": "light"
          }
        }
      ]
    },
    {
      "cell_type": "markdown",
      "metadata": {
        "id": "1SLQci0nbTbA"
      },
      "source": [
        "# 감은 눈 검출"
      ]
    },
    {
      "cell_type": "code",
      "metadata": {
        "id": "MLQOptanbNtw"
      },
      "source": [
        "# https://github.com/kairess/eye_blink_detector/blob/master/test.py\n",
        "IMG_SIZE = (34, 26)\n",
        "\n",
        "# 얼굴 특징점 추출\n",
        "detector = dlib.get_frontal_face_detector()\n",
        "predictor = dlib.shape_predictor('/content/drive/MyDrive/Colab Notebooks/ComputerVision/project/shape_predictor_68_face_landmarks.dat')"
      ],
      "execution_count": 8,
      "outputs": []
    },
    {
      "cell_type": "code",
      "metadata": {
        "id": "RR6USIijbNwD"
      },
      "source": [
        "def crop_eye(img, eye_points):\n",
        "    x1, y1 = np.amin(eye_points, axis=0)\n",
        "    x2, y2 = np.amax(eye_points, axis=0)\n",
        "    cx, cy = (x1 + x2) / 2, (y1 + y2) / 2\n",
        "\n",
        "    w = (x2 - x1) * 1.2\n",
        "    h = w * IMG_SIZE[1] / IMG_SIZE[0]\n",
        "\n",
        "    margin_x, margin_y = w / 2, h / 2\n",
        "\n",
        "    min_x, min_y = int(cx - margin_x), int(cy - margin_y)\n",
        "    max_x, max_y = int(cx + margin_x), int(cy + margin_y)\n",
        "\n",
        "    eye_rect = np.rint([min_x, min_y, max_x, max_y]).astype(np.int)\n",
        "\n",
        "    eye_img = gray[eye_rect[1]:eye_rect[3], eye_rect[0]:eye_rect[2]]\n",
        "\n",
        "    return eye_img, eye_rect"
      ],
      "execution_count": 9,
      "outputs": []
    },
    {
      "cell_type": "code",
      "metadata": {
        "colab": {
          "base_uri": "https://localhost:8080/"
        },
        "id": "6dzgEoNgbNyU",
        "outputId": "5c31a6d4-ae82-41be-d7c7-01e5e91f8cb2"
      },
      "source": [
        "# main(동영상 저장과 경고 알림 추가)\n",
        "cap = cv2.VideoCapture('/content/drive/MyDrive/Colab Notebooks/ComputerVision/project/videos/sleeping_eyes.mp4')\n",
        "total_frame = int(cap.get(cv2.CAP_PROP_FRAME_COUNT))\n",
        "cnt = 0\n",
        "\n",
        "for now_frame in tqdm(range(total_frame)):\n",
        "    ret, img_ori = cap.read()\n",
        "\n",
        "    if not ret:\n",
        "        break\n",
        "\n",
        "    img_ori = cv2.resize(img_ori, dsize=(0, 0), fx=0.5, fy=0.5)\n",
        "\n",
        "    img = img_ori.copy()\n",
        "    gray = cv2.cvtColor(img, cv2.COLOR_BGR2GRAY)\n",
        "\n",
        "    faces = detector(gray)\n",
        "\n",
        "    for face in faces:\n",
        "        shapes = predictor(gray, face)\n",
        "        shapes = face_utils.shape_to_np(shapes)\n",
        "\n",
        "        eye_img_l, eye_rect_l = crop_eye(gray, eye_points=shapes[36:42])\n",
        "        eye_img_r, eye_rect_r = crop_eye(gray, eye_points=shapes[42:48])\n",
        "\n",
        "        eye_img_l = cv2.resize(eye_img_l, dsize=IMG_SIZE)\n",
        "        eye_img_r = cv2.resize(eye_img_r, dsize=IMG_SIZE)\n",
        "        eye_img_r = cv2.flip(eye_img_r, flipCode=1)\n",
        "\n",
        "        eye_input_l = eye_img_l.copy().reshape((1, IMG_SIZE[1], IMG_SIZE[0], 1)).astype(np.float32) / 255.\n",
        "        eye_input_r = eye_img_r.copy().reshape((1, IMG_SIZE[1], IMG_SIZE[0], 1)).astype(np.float32) / 255.\n",
        "\n",
        "        pred_l = model.predict(eye_input_l)\n",
        "        pred_r = model.predict(eye_input_r)\n",
        "\n",
        "        # visualize\n",
        "        state_l = '%.1f' if pred_l > 0.1 else '%.1f'\n",
        "        state_r = '%.1f' if pred_r > 0.1 else '%.1f'\n",
        "\n",
        "        state_l = state_l % pred_l\n",
        "        state_r = state_r % pred_r\n",
        "\n",
        "        if state_l == '0.0' and state_r == '0.0':\n",
        "            cnt += 1\n",
        "        if cnt > 30:\n",
        "            cv2.putText(img, \"Warning!\", (100, 300), cv2.FONT_HERSHEY_PLAIN, 12.0, (0, 0, 255), 5)\n",
        "        if state_l > '0.3' or state_r > '0.3':\n",
        "            cnt = 0\n",
        "\n",
        "        cv2.rectangle(img, pt1=tuple(eye_rect_l[0:2]), pt2=tuple(eye_rect_l[2:4]), color=(255,255,255), thickness=2)\n",
        "        cv2.rectangle(img, pt1=tuple(eye_rect_r[0:2]), pt2=tuple(eye_rect_r[2:4]), color=(255,255,255), thickness=2)\n",
        "\n",
        "        cv2.putText(img, state_l, tuple(eye_rect_l[0:2]), cv2.FONT_HERSHEY_SIMPLEX, 0.7, (255,255,255), 2)\n",
        "        cv2.putText(img, state_r, tuple(eye_rect_r[0:2]), cv2.FONT_HERSHEY_SIMPLEX, 0.7, (255,255,255), 2)\n",
        "\n",
        "    # 이미지 파일 생성\n",
        "    cv2.imwrite(f\"/content/drive/MyDrive/Colab Notebooks/ComputerVision/project/result/{now_frame:.0f}.jpg\", img)"
      ],
      "execution_count": 10,
      "outputs": [
        {
          "output_type": "stream",
          "text": [
            "100%|██████████| 214/214 [00:36<00:00,  5.87it/s]\n"
          ],
          "name": "stderr"
        }
      ]
    },
    {
      "cell_type": "code",
      "metadata": {
        "colab": {
          "base_uri": "https://localhost:8080/"
        },
        "id": "6z3urERpbN0k",
        "outputId": "b4fb3ecc-05d1-4086-8e6f-03e157e1d400"
      },
      "source": [
        "# 참고 : https://hanryang1125.tistory.com/19\n",
        "import glob\n",
        "\n",
        "img_array = []\n",
        "\n",
        "for file in tqdm(glob.glob('/content/drive/MyDrive/Colab Notebooks/ComputerVision/project/result/*.jpg')):\n",
        "    img = cv2.imread(file)\n",
        "    img_array.append(img)\n",
        "\n",
        "height, width = img.shape[:2]\n",
        "size = (width, height)\n",
        "video = cv2.VideoWriter('/content/drive/MyDrive/Colab Notebooks/ComputerVision/project/result/result.avi',cv2.VideoWriter_fourcc(*'DIVX'), 20, size)\n",
        "\n",
        "for img in img_array:\n",
        "    video.write(img)\n",
        "\n",
        "video.release()"
      ],
      "execution_count": 11,
      "outputs": [
        {
          "output_type": "stream",
          "text": [
            "100%|██████████| 214/214 [00:02<00:00, 97.78it/s]\n"
          ],
          "name": "stderr"
        }
      ]
    },
    {
      "cell_type": "markdown",
      "metadata": {
        "id": "OQj2dQ0Kd4kM"
      },
      "source": [
        "# APPENDIX\n",
        "### 외부 데이터 출처\n",
        "    \n",
        "* http://parnec.nuaa.edu.cn/_upload/tpl/02/db/731/template731/pages/xtan/publication.htm\n",
        "* https://hanryang1125.tistory.com/19\n",
        "* https://github.com/kairess/eye_blink_detector"
      ]
    }
  ]
}